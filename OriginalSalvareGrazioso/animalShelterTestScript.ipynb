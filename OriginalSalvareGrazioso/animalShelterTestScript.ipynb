{
 "cells": [
  {
   "cell_type": "code",
   "execution_count": 1,
   "id": "b00c97b9",
   "metadata": {},
   "outputs": [],
   "source": [
    "from animalShelter import AnimalShelter\n",
    "from pprint import pprint"
   ]
  },
  {
   "cell_type": "code",
   "execution_count": 2,
   "id": "056763eb",
   "metadata": {},
   "outputs": [],
   "source": [
    "animal = AnimalShelter()\n",
    "testAnimal = {\"name\": \"Orion\", \"breed\": \"Shiba Inu\", \"outcome_type\": \"Loving home\"}"
   ]
  },
  {
   "cell_type": "code",
   "execution_count": 3,
   "id": "3ae0930c",
   "metadata": {},
   "outputs": [
    {
     "name": "stdout",
     "output_type": "stream",
     "text": [
      "<pymongo.results.InsertOneResult object at 0x7ffb816dffc0>\n"
     ]
    },
    {
     "data": {
      "text/plain": [
       "True"
      ]
     },
     "execution_count": 3,
     "metadata": {},
     "output_type": "execute_result"
    }
   ],
   "source": [
    "animal.create(testAnimal)"
   ]
  },
  {
   "cell_type": "code",
   "execution_count": 4,
   "id": "e0bbf73b",
   "metadata": {},
   "outputs": [
    {
     "name": "stdout",
     "output_type": "stream",
     "text": [
      "[{'_id': ObjectId('65597357aabf843aa88b9dbe'),\n",
      "  'breed': 'Shiba Inu',\n",
      "  'name': 'Orion',\n",
      "  'outcome_type': 'Kennel'},\n",
      " {'_id': ObjectId('655973b7128678f1e211bfa0'),\n",
      "  'breed': 'Shiba Inu',\n",
      "  'name': 'Orion',\n",
      "  'outcome_type': 'Kennel'},\n",
      " {'_id': ObjectId('655973c5128678f1e211bfa2'),\n",
      "  'breed': 'Shiba Inu',\n",
      "  'name': 'Orion',\n",
      "  'outcome_type': 'Kennel'},\n",
      " {'_id': ObjectId('6559747c1003d9522cb4b405'),\n",
      "  'breed': 'Shiba Inu',\n",
      "  'name': 'Orion',\n",
      "  'outcome_type': 'Kennel'},\n",
      " {'_id': ObjectId('655974c6ec0742b66ebcf7cc'),\n",
      "  'breed': 'Shiba Inu',\n",
      "  'name': 'Orion',\n",
      "  'outcome_type': 'Kennel'},\n",
      " {'_id': ObjectId('655975077075753aef5c1e09'),\n",
      "  'breed': 'Shiba Inu',\n",
      "  'name': 'Orion',\n",
      "  'outcome_type': 'Kennel'},\n",
      " {'_id': ObjectId('6559755aafa3b0ebb9b3b492'),\n",
      "  'breed': 'Shiba Inu',\n",
      "  'name': 'Orion',\n",
      "  'outcome_type': 'Kennel'},\n",
      " {'_id': ObjectId('6559759bf0540a1935956e48'),\n",
      "  'breed': 'Shiba Inu',\n",
      "  'name': 'Orion',\n",
      "  'outcome_type': 'Kennel'},\n",
      " {'_id': ObjectId('655975d8af4841d4702c0626'),\n",
      "  'breed': 'Shiba Inu',\n",
      "  'name': 'Orion',\n",
      "  'outcome_type': 'Kennel'},\n",
      " {'_id': ObjectId('65597647c08409c9f3c43fd7'),\n",
      "  'breed': 'Shiba Inu',\n",
      "  'name': 'Orion',\n",
      "  'outcome_type': 'Kennel'},\n",
      " {'_id': ObjectId('655a483ef1022b4136038bab'),\n",
      "  'breed': 'Shiba Inu',\n",
      "  'name': 'Orion',\n",
      "  'outcome_type': 'Kennel'},\n",
      " {'_id': ObjectId('655a488f1ffcd914d859a316'),\n",
      "  'breed': 'Shiba Inu',\n",
      "  'name': 'Orion',\n",
      "  'outcome_type': 'Kennel'},\n",
      " {'_id': ObjectId('655a4a7ee0b00766cbe79640'),\n",
      "  'breed': 'Shiba Inu',\n",
      "  'name': 'Orion',\n",
      "  'outcome_type': 'Kennel'},\n",
      " {'_id': ObjectId('655a4b53a80562c71964150e'),\n",
      "  'breed': 'Shiba Inu',\n",
      "  'name': 'Orion',\n",
      "  'outcome_type': 'Kennel'},\n",
      " {'_id': ObjectId('655a4b8151f7f1eb416c470c'),\n",
      "  'breed': 'Shiba Inu',\n",
      "  'name': 'Orion',\n",
      "  'outcome_type': 'Kennel'},\n",
      " {'_id': ObjectId('655a4bc51e947c02993691a8'),\n",
      "  'breed': 'Shiba Inu',\n",
      "  'name': 'Orion',\n",
      "  'outcome_type': 'Kennel'},\n",
      " {'_id': ObjectId('655a4c401e704c2d80000efd'),\n",
      "  'breed': 'Shiba Inu',\n",
      "  'name': 'Orion',\n",
      "  'outcome_type': 'Kennel'},\n",
      " {'_id': ObjectId('655a4d5513c5bddbbcb87a23'),\n",
      "  'breed': 'Shiba Inu',\n",
      "  'name': 'Orion',\n",
      "  'outcome_type': 'Kennel'},\n",
      " {'_id': ObjectId('655a50f413c5bddbbcb87a27'),\n",
      "  'breed': 'Shiba Inu',\n",
      "  'name': 'Orion',\n",
      "  'outcome_type': 'Kennel'},\n",
      " {'_id': ObjectId('655a510da655cf54afb355a9'),\n",
      "  'breed': 'Shiba Inu',\n",
      "  'name': 'Orion',\n",
      "  'outcome_type': 'Kennel'},\n",
      " {'_id': ObjectId('655a518aa655cf54afb355ab'),\n",
      "  'breed': 'Shiba Inu',\n",
      "  'name': 'Orion',\n",
      "  'outcome_type': 'Kennel'},\n",
      " {'_id': ObjectId('655a5194a655cf54afb355ad'),\n",
      "  'breed': 'Shiba Inu',\n",
      "  'name': 'Orion',\n",
      "  'outcome_type': 'Kennel'},\n",
      " {'_id': ObjectId('655a51a3a655cf54afb355af'),\n",
      "  'breed': 'Shiba Inu',\n",
      "  'name': 'Orion',\n",
      "  'outcome_type': 'Kennel'},\n",
      " {'_id': ObjectId('655a51b9ca9c4d67eb148e6a'),\n",
      "  'breed': 'Shiba Inu',\n",
      "  'name': 'Orion',\n",
      "  'outcome_type': 'Kennel'},\n",
      " {'_id': ObjectId('655e9c9bb5366ba06c40c38a'),\n",
      "  'breed': 'Shiba Inu',\n",
      "  'name': 'Orion',\n",
      "  'outcome_type': 'Kennel'},\n",
      " {'_id': ObjectId('655e9d72b5366ba06c40c38c'),\n",
      "  'breed': 'Shiba Inu',\n",
      "  'name': 'Orion',\n",
      "  'outcome_type': 'Kennel'},\n",
      " {'_id': ObjectId('655e9dc70758b5deb00a4e6d'),\n",
      "  'breed': 'Shiba Inu',\n",
      "  'name': 'Orion',\n",
      "  'outcome_type': 'Loving home'}]\n"
     ]
    }
   ],
   "source": [
    "animal.read({\"name\": \"Orion\", \"breed\": \"Shiba Inu\"})\n"
   ]
  },
  {
   "cell_type": "code",
   "execution_count": 6,
   "id": "6b8bb331",
   "metadata": {},
   "outputs": [
    {
     "name": "stdout",
     "output_type": "stream",
     "text": [
      "30\n"
     ]
    }
   ],
   "source": [
    "animal.update({\"name\": \"Orion\"}, {\"outcome_type\": \"kennel\" })"
   ]
  },
  {
   "cell_type": "code",
   "execution_count": 7,
   "id": "e8d8fb79",
   "metadata": {},
   "outputs": [
    {
     "name": "stdout",
     "output_type": "stream",
     "text": [
      "30\n"
     ]
    }
   ],
   "source": [
    "animal.delete({\"name\": \"Orion\"})"
   ]
  },
  {
   "cell_type": "code",
   "execution_count": null,
   "id": "7c5499bf",
   "metadata": {},
   "outputs": [],
   "source": []
  }
 ],
 "metadata": {
  "kernelspec": {
   "display_name": "Python 3 (ipykernel)",
   "language": "python",
   "name": "python3"
  },
  "language_info": {
   "codemirror_mode": {
    "name": "ipython",
    "version": 3
   },
   "file_extension": ".py",
   "mimetype": "text/x-python",
   "name": "python",
   "nbconvert_exporter": "python",
   "pygments_lexer": "ipython3",
   "version": "3.9.12"
  }
 },
 "nbformat": 4,
 "nbformat_minor": 5
}
